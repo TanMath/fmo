{
 "cells": [
  {
   "cell_type": "code",
   "execution_count": 200,
   "metadata": {
    "collapsed": true
   },
   "outputs": [],
   "source": [
    "%matplotlib inline"
   ]
  },
  {
   "cell_type": "code",
   "execution_count": 201,
   "metadata": {
    "collapsed": false
   },
   "outputs": [],
   "source": [
    "import numpy as np\n",
    "import scipy\n",
    "from math import pi\n",
    "from scipy.integrate import complex_ode\n",
    "import matplotlib.pyplot as plt"
   ]
  },
  {
   "cell_type": "markdown",
   "metadata": {},
   "source": [
    "## Define a linblad master equation function\n",
    "To give to `scipy.integrate`"
   ]
  },
  {
   "cell_type": "code",
   "execution_count": 202,
   "metadata": {
    "collapsed": false
   },
   "outputs": [],
   "source": [
    "def linblad_master_eq(ham, ls, gamma):\n",
    "    d = ham.shape[0]\n",
    "    lls = [l.H * l for l in ls]\n",
    "    \n",
    "    def gen_l_terms(rho):\n",
    "        # Generate the linbladian terms, closed over ls\n",
    "        for l, ll in zip(ls, lls):\n",
    "            yield (l * rho * l.H) - 0.5 * ((rho * ll) + (ll * rho))\n",
    "    \n",
    "    def foo(t, y):\n",
    "        # `t` parameter required for scipy.integrate\n",
    "        # reshaping from and to a 1d-array likewise required\n",
    "        rho = y.reshape(d, d)  \n",
    "        #  Von neumann term\n",
    "        rd = -1.0j * (ham * rho - rho * ham)\n",
    "        # Add linbladian term\n",
    "        rd += gamma * sum(gen_l_terms(rho))\n",
    "        # convert back to vector\n",
    "        return np.asarray(rd).reshape(-1)  \n",
    "    \n",
    "    return foo"
   ]
  },
  {
   "cell_type": "markdown",
   "metadata": {},
   "source": [
    "## FMO complex Hamiltonian"
   ]
  },
  {
   "cell_type": "code",
   "execution_count": 203,
   "metadata": {
    "collapsed": false
   },
   "outputs": [
    {
     "data": {
      "text/plain": [
       "matrix([[ 215.0-33.33333333j, -104.1 +0.j        ,    5.1 +0.j        ,\n",
       "           -4.3 +0.j        ,    4.7 +0.j        ,  -15.1 +0.j        ,\n",
       "           -7.8 +0.j        ],\n",
       "        [-104.1 +0.j        ,  220.0-33.33333333j,   32.6 +0.j        ,\n",
       "            7.1 +0.j        ,    5.4 +0.j        ,    8.3 +0.j        ,\n",
       "            0.8 +0.j        ],\n",
       "        [   5.1 +0.j        ,   32.6 +0.j        ,    0.0-33.36666667j,\n",
       "          -46.8 +0.j        ,    1.0 +0.j        ,   -8.1 +0.j        ,\n",
       "            5.1 +0.j        ],\n",
       "        [  -4.3 +0.j        ,    7.1 +0.j        ,  -46.8 +0.j        ,\n",
       "          125.0-33.33333333j,  -70.7 +0.j        ,  -14.7 +0.j        ,\n",
       "          -61.5 +0.j        ],\n",
       "        [   4.7 +0.j        ,    5.4 +0.j        ,    1.0 +0.j        ,\n",
       "          -70.7 +0.j        ,  450.0-33.33333333j,   89.7 +0.j        ,\n",
       "           -2.5 +0.j        ],\n",
       "        [ -15.1 +0.j        ,    8.3 +0.j        ,   -8.1 +0.j        ,\n",
       "          -14.7 +0.j        ,   89.7 +0.j        ,  330.0-33.33333333j,\n",
       "           32.7 +0.j        ],\n",
       "        [  -7.8 +0.j        ,    0.8 +0.j        ,    5.1 +0.j        ,\n",
       "          -61.5 +0.j        ,   -2.5 +0.j        ,   32.7 +0.j        ,\n",
       "          280.0-33.33333333j]])"
      ]
     },
     "execution_count": 203,
     "metadata": {},
     "output_type": "execute_result"
    }
   ],
   "source": [
    "ham = np.matrix([\n",
    "    [215, -104.1, 5.1, -4.3, 4.7, -15.1, -7.8],\n",
    "    [-104.1, 220.0, 32.6, 7.1, 5.4, 8.3, 0.8],\n",
    "    [5.1, 32.6, 0.0, -46.8, 1.0, -8.1, 5.1],\n",
    "    [-4.3, 7.1, -46.8, 125.0, -70.7, -14.7, -61.5],\n",
    "    [4.7, 5.4, 1.0, -70.7, 450.0, 89.7, -2.5],\n",
    "    [-15.1, 8.3, -8.1, -14.7, 89.7, 330.0, 32.7],\n",
    "    [-7.8, 0.8, 5.1, -61.5, -2.5, 32.7, 280.0]\n",
    "    ], dtype=complex)\n",
    "d = ham.shape[0]\n",
    "ham += (-100j/3) * np.eye(d, dtype=complex)  # recomb\n",
    "ham[2, 2] += (-0.1j/3)  # trap\n",
    "ham"
   ]
  },
  {
   "cell_type": "markdown",
   "metadata": {},
   "source": [
    "## Lindblad operators"
   ]
  },
  {
   "cell_type": "code",
   "execution_count": 204,
   "metadata": {
    "collapsed": false
   },
   "outputs": [
    {
     "data": {
      "text/plain": [
       "301.6012723250297"
      ]
     },
     "execution_count": 204,
     "metadata": {},
     "output_type": "execute_result"
    }
   ],
   "source": [
    "def gen_ls():\n",
    "    for i in range(d):\n",
    "        l = np.zeros((d, d), dtype=complex)\n",
    "        l = np.asmatrix(l)\n",
    "        l[i, i] = 1\n",
    "        yield l\n",
    "\n",
    "gen = gen_ls()\n",
    "ls = []\n",
    "for i in range(0,7):\n",
    "    ls.append(next(gen))\n",
    "    \n",
    "gamma = (2 * pi) * (296 * 0.695) * (35.0 / 150)\n",
    "gamma"
   ]
  },
  {
   "cell_type": "code",
   "execution_count": 205,
   "metadata": {
    "collapsed": false
   },
   "outputs": [
    {
     "data": {
      "text/plain": [
       "[matrix([[ 1.+0.j,  0.+0.j,  0.+0.j,  0.+0.j,  0.+0.j,  0.+0.j,  0.+0.j],\n",
       "         [ 0.+0.j,  0.+0.j,  0.+0.j,  0.+0.j,  0.+0.j,  0.+0.j,  0.+0.j],\n",
       "         [ 0.+0.j,  0.+0.j,  0.+0.j,  0.+0.j,  0.+0.j,  0.+0.j,  0.+0.j],\n",
       "         [ 0.+0.j,  0.+0.j,  0.+0.j,  0.+0.j,  0.+0.j,  0.+0.j,  0.+0.j],\n",
       "         [ 0.+0.j,  0.+0.j,  0.+0.j,  0.+0.j,  0.+0.j,  0.+0.j,  0.+0.j],\n",
       "         [ 0.+0.j,  0.+0.j,  0.+0.j,  0.+0.j,  0.+0.j,  0.+0.j,  0.+0.j],\n",
       "         [ 0.+0.j,  0.+0.j,  0.+0.j,  0.+0.j,  0.+0.j,  0.+0.j,  0.+0.j]]),\n",
       " matrix([[ 0.+0.j,  0.+0.j,  0.+0.j,  0.+0.j,  0.+0.j,  0.+0.j,  0.+0.j],\n",
       "         [ 0.+0.j,  1.+0.j,  0.+0.j,  0.+0.j,  0.+0.j,  0.+0.j,  0.+0.j],\n",
       "         [ 0.+0.j,  0.+0.j,  0.+0.j,  0.+0.j,  0.+0.j,  0.+0.j,  0.+0.j],\n",
       "         [ 0.+0.j,  0.+0.j,  0.+0.j,  0.+0.j,  0.+0.j,  0.+0.j,  0.+0.j],\n",
       "         [ 0.+0.j,  0.+0.j,  0.+0.j,  0.+0.j,  0.+0.j,  0.+0.j,  0.+0.j],\n",
       "         [ 0.+0.j,  0.+0.j,  0.+0.j,  0.+0.j,  0.+0.j,  0.+0.j,  0.+0.j],\n",
       "         [ 0.+0.j,  0.+0.j,  0.+0.j,  0.+0.j,  0.+0.j,  0.+0.j,  0.+0.j]]),\n",
       " matrix([[ 0.+0.j,  0.+0.j,  0.+0.j,  0.+0.j,  0.+0.j,  0.+0.j,  0.+0.j],\n",
       "         [ 0.+0.j,  0.+0.j,  0.+0.j,  0.+0.j,  0.+0.j,  0.+0.j,  0.+0.j],\n",
       "         [ 0.+0.j,  0.+0.j,  1.+0.j,  0.+0.j,  0.+0.j,  0.+0.j,  0.+0.j],\n",
       "         [ 0.+0.j,  0.+0.j,  0.+0.j,  0.+0.j,  0.+0.j,  0.+0.j,  0.+0.j],\n",
       "         [ 0.+0.j,  0.+0.j,  0.+0.j,  0.+0.j,  0.+0.j,  0.+0.j,  0.+0.j],\n",
       "         [ 0.+0.j,  0.+0.j,  0.+0.j,  0.+0.j,  0.+0.j,  0.+0.j,  0.+0.j],\n",
       "         [ 0.+0.j,  0.+0.j,  0.+0.j,  0.+0.j,  0.+0.j,  0.+0.j,  0.+0.j]]),\n",
       " matrix([[ 0.+0.j,  0.+0.j,  0.+0.j,  0.+0.j,  0.+0.j,  0.+0.j,  0.+0.j],\n",
       "         [ 0.+0.j,  0.+0.j,  0.+0.j,  0.+0.j,  0.+0.j,  0.+0.j,  0.+0.j],\n",
       "         [ 0.+0.j,  0.+0.j,  0.+0.j,  0.+0.j,  0.+0.j,  0.+0.j,  0.+0.j],\n",
       "         [ 0.+0.j,  0.+0.j,  0.+0.j,  1.+0.j,  0.+0.j,  0.+0.j,  0.+0.j],\n",
       "         [ 0.+0.j,  0.+0.j,  0.+0.j,  0.+0.j,  0.+0.j,  0.+0.j,  0.+0.j],\n",
       "         [ 0.+0.j,  0.+0.j,  0.+0.j,  0.+0.j,  0.+0.j,  0.+0.j,  0.+0.j],\n",
       "         [ 0.+0.j,  0.+0.j,  0.+0.j,  0.+0.j,  0.+0.j,  0.+0.j,  0.+0.j]]),\n",
       " matrix([[ 0.+0.j,  0.+0.j,  0.+0.j,  0.+0.j,  0.+0.j,  0.+0.j,  0.+0.j],\n",
       "         [ 0.+0.j,  0.+0.j,  0.+0.j,  0.+0.j,  0.+0.j,  0.+0.j,  0.+0.j],\n",
       "         [ 0.+0.j,  0.+0.j,  0.+0.j,  0.+0.j,  0.+0.j,  0.+0.j,  0.+0.j],\n",
       "         [ 0.+0.j,  0.+0.j,  0.+0.j,  0.+0.j,  0.+0.j,  0.+0.j,  0.+0.j],\n",
       "         [ 0.+0.j,  0.+0.j,  0.+0.j,  0.+0.j,  1.+0.j,  0.+0.j,  0.+0.j],\n",
       "         [ 0.+0.j,  0.+0.j,  0.+0.j,  0.+0.j,  0.+0.j,  0.+0.j,  0.+0.j],\n",
       "         [ 0.+0.j,  0.+0.j,  0.+0.j,  0.+0.j,  0.+0.j,  0.+0.j,  0.+0.j]]),\n",
       " matrix([[ 0.+0.j,  0.+0.j,  0.+0.j,  0.+0.j,  0.+0.j,  0.+0.j,  0.+0.j],\n",
       "         [ 0.+0.j,  0.+0.j,  0.+0.j,  0.+0.j,  0.+0.j,  0.+0.j,  0.+0.j],\n",
       "         [ 0.+0.j,  0.+0.j,  0.+0.j,  0.+0.j,  0.+0.j,  0.+0.j,  0.+0.j],\n",
       "         [ 0.+0.j,  0.+0.j,  0.+0.j,  0.+0.j,  0.+0.j,  0.+0.j,  0.+0.j],\n",
       "         [ 0.+0.j,  0.+0.j,  0.+0.j,  0.+0.j,  0.+0.j,  0.+0.j,  0.+0.j],\n",
       "         [ 0.+0.j,  0.+0.j,  0.+0.j,  0.+0.j,  0.+0.j,  1.+0.j,  0.+0.j],\n",
       "         [ 0.+0.j,  0.+0.j,  0.+0.j,  0.+0.j,  0.+0.j,  0.+0.j,  0.+0.j]]),\n",
       " matrix([[ 0.+0.j,  0.+0.j,  0.+0.j,  0.+0.j,  0.+0.j,  0.+0.j,  0.+0.j],\n",
       "         [ 0.+0.j,  0.+0.j,  0.+0.j,  0.+0.j,  0.+0.j,  0.+0.j,  0.+0.j],\n",
       "         [ 0.+0.j,  0.+0.j,  0.+0.j,  0.+0.j,  0.+0.j,  0.+0.j,  0.+0.j],\n",
       "         [ 0.+0.j,  0.+0.j,  0.+0.j,  0.+0.j,  0.+0.j,  0.+0.j,  0.+0.j],\n",
       "         [ 0.+0.j,  0.+0.j,  0.+0.j,  0.+0.j,  0.+0.j,  0.+0.j,  0.+0.j],\n",
       "         [ 0.+0.j,  0.+0.j,  0.+0.j,  0.+0.j,  0.+0.j,  0.+0.j,  0.+0.j],\n",
       "         [ 0.+0.j,  0.+0.j,  0.+0.j,  0.+0.j,  0.+0.j,  0.+0.j,  1.+0.j]])]"
      ]
     },
     "execution_count": 205,
     "metadata": {},
     "output_type": "execute_result"
    }
   ],
   "source": [
    "ls"
   ]
  },
  {
   "cell_type": "markdown",
   "metadata": {},
   "source": [
    "## Instance of the linblad equation"
   ]
  },
  {
   "cell_type": "code",
   "execution_count": 206,
   "metadata": {
    "collapsed": false
   },
   "outputs": [
    {
     "data": {
      "text/plain": [
       "<function __main__.linblad_master_eq.<locals>.foo>"
      ]
     },
     "execution_count": 206,
     "metadata": {},
     "output_type": "execute_result"
    }
   ],
   "source": [
    "leq = linblad_master_eq(ham, ls, gamma)\n",
    "leq"
   ]
  },
  {
   "cell_type": "markdown",
   "metadata": {},
   "source": [
    "## Starting state and times"
   ]
  },
  {
   "cell_type": "code",
   "execution_count": 207,
   "metadata": {
    "collapsed": false
   },
   "outputs": [],
   "source": [
    "rho0= ls[0]\n",
    "ti = 0\n",
    "tf = 1\n",
    "dt = 101\n",
    "ts = np.linspace(ti, tf, dt)"
   ]
  },
  {
   "cell_type": "markdown",
   "metadata": {},
   "source": [
    "## Initiate scipy integrator and evolve"
   ]
  },
  {
   "cell_type": "code",
   "execution_count": 208,
   "metadata": {
    "collapsed": false
   },
   "outputs": [],
   "source": [
    "stepper = complex_ode(leq)\n",
    "stepper.set_integrator('dop853', nsteps=0, first_step=0.01)\n",
    "stepper.set_initial_value(np.asarray(rho0).reshape(-1), ti)\n",
    "\n",
    "# array for population values\n",
    "xs = np.empty((d, len(ts)), dtype=float)\n",
    "\n",
    "for i, t in enumerate(ts):\n",
    "    stepper.integrate(t)\n",
    "    rhot = np.asmatrix(stepper.y.reshape(d, d))\n",
    "    xs[:, i] = np.diag(rhot).real"
   ]
  },
  {
   "cell_type": "code",
   "execution_count": 209,
   "metadata": {
    "collapsed": false
   },
   "outputs": [
    {
     "data": {
      "image/png": "[encoded data removed]",
      "text/plain": [
       "<matplotlib.figure.Figure at 0x7f7b412c90b8>"
      ]
     },
     "metadata": {},
     "output_type": "display_data"
    }
   ],
   "source": [
    "plt.plot(ts, xs[0, :], label='1')\n",
    "plt.plot(ts, xs[1, :], label='2')\n",
    "plt.plot(ts, xs[2, :], label='3')\n",
    "plt.plot(ts, xs[3, :], label='4')\n",
    "plt.plot(ts, xs[4, :], label='5')\n",
    "plt.plot(ts, xs[5, :], label='6')\n",
    "plt.plot(ts, xs[6, :], label='7')\n",
    "plt.legend(loc='upper right')\n",
    "plt.title('Site populations versus time')\n",
    "plt.show()\n"
   ]
  },
  {
   "cell_type": "code",
   "execution_count": 210,
   "metadata": {
    "collapsed": false
   },
   "outputs": [
    {
     "data": {
      "text/plain": [
       "<matplotlib.text.Text at 0x7f7b41075da0>"
      ]
     },
     "execution_count": 210,
     "metadata": {},
     "output_type": "execute_result"
    },
    {
     "data": {
      "image/png": "[encoded data removed]",
      "text/plain": [
       "<matplotlib.figure.Figure at 0x7f7b4115dcf8>"
      ]
     },
     "metadata": {},
     "output_type": "display_data"
    }
   ],
   "source": [
    "plt.plot(ts, xs[2, :], label='3')\n",
    "plt.legend(loc='upper right')\n",
    "plt.title('Site 3 population versus time')"
   ]
  }
 ],
 "metadata": {
  "kernelspec": {
   "display_name": "Python 3",
   "language": "python",
   "name": "python3"
  },
  "language_info": {
   "codemirror_mode": {
    "name": "ipython",
    "version": 3
   },
   "file_extension": ".py",
   "mimetype": "text/x-python",
   "name": "python",
   "nbconvert_exporter": "python",
   "pygments_lexer": "ipython3",
   "version": "3.4.3+"
  }
 },
 "nbformat": 4,
 "nbformat_minor": 0
}
